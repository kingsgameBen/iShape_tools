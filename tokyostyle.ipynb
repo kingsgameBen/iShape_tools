{
  "nbformat": 4,
  "nbformat_minor": 0,
  "metadata": {
    "colab": {
      "name": "plastic_surgery.ipynb",
      "private_outputs": true,
      "provenance": [],
      "mount_file_id": "1Y8sAHRvfNmcBF_jmLDhvbfx6IINwUqlv",
      "authorship_tag": "ABX9TyNeV30h6naZdeckngfl9OgE",
      "include_colab_link": true
    },
    "kernelspec": {
      "name": "python3",
      "display_name": "Python 3"
    },
    "language_info": {
      "name": "python"
    }
  },
  "cells": [
    {
      "cell_type": "markdown",
      "metadata": {
        "id": "view-in-github",
        "colab_type": "text"
      },
      "source": [
        "<a href=\"https://colab.research.google.com/github/kingsgameBen/iShape_tools/blob/main/tokyostyle.ipynb\" target=\"_parent\"><img src=\"https://colab.research.google.com/assets/colab-badge.svg\" alt=\"Open In Colab\"/></a>"
      ]
    },
    {
      "cell_type": "markdown",
      "metadata": {
        "id": "LzgO5co_1pYI"
      },
      "source": [
        "### 爬取豐胸整形醫院 tokyostyle 的成功案例 \n",
        "- 半身正面照&身高體重資訊\n"
      ]
    },
    {
      "cell_type": "code",
      "metadata": {
        "id": "pZCk5d-s2zQ7"
      },
      "source": [
        "import requests\n",
        "import json\n",
        "from bs4 import BeautifulSoup\n",
        "import json\n",
        "import pandas as pd\n",
        "import os\n",
        "from urllib.request import urlopen, Request\n",
        "import shutil\n",
        "import requests.packages.urllib3\n",
        "requests.packages.urllib3.disable_warnings()\n",
        "\n",
        "dn = \"drive/MyDrive/body_shape/tokyostyle/\"\n",
        "if not os.path.exists(dn):\n",
        "    os.makedirs(dn)\n",
        "urls = [\"https://www.tokyostyle.com.tw/beauty1.php?id=37&type=1\", \"https://www.tokyostyle.com.tw/beauty1.php?id=40&type=1\"]\n",
        "info_box = []\n",
        "img_box = []\n",
        "for url in urls:\n",
        "    response = requests.get(url)\n",
        "    response.encoding='utf-8'\n",
        "    html = BeautifulSoup(response.text,features=\"html.parser\")\n",
        "    # print(html)\n",
        "\n",
        "    info_blocks = html.find(\"div\", class_=\"inner-content-mag\").find_all(\"div\", class_=\"bread-crumb\")\n",
        "    upper_blocks = html.find(\"div\", class_=\"inner-content-mag\").find_all(\"div\", class_=\"service-blk-i\")\n",
        "    # print(len(info_blocks), len(upper_blocks))\n",
        "    for idx, info in enumerate(info_blocks):\n",
        "        info = (\" \".join(info.text.split())).strip().split(\"/\")\n",
        "        # print(info)\n",
        "        img_hrefs = [\"https://www.tokyostyle.com.tw/\"+imgs[\"href\"] for imgs in upper_blocks[idx].find_all(\"a\")]\n",
        "        # print(img_hrefs)\n",
        "        info_box.append(info)\n",
        "        img_box.append(img_hrefs)\n",
        "\n",
        "print(len(info_box), len(img_box))\n",
        "print(info_box)\n",
        "print(img_box)\n",
        "\n",
        "count = 0\n",
        "for idx, info in enumerate(info_box):\n",
        "    count += 1\n",
        "    print(count)\n",
        "    idx_dn = dn + str(count) + \"/\"\n",
        "    if not os.path.exists(idx_dn):\n",
        "        os.makedirs(idx_dn)\n",
        "    print(idx_dn)\n",
        "    details = \" \".join(info).strip(\" \")\n",
        "    print(details)\n",
        "    prof_dt = idx_dn + \"info.txt\"\n",
        "    with open(prof_dt, \"w\") as txtf:\n",
        "        txtf.write(details)\n",
        "    prof_imgs = img_box[idx]\n",
        "    for i, prof_img in enumerate(prof_imgs):\n",
        "        fn = idx_dn + str(i+1) + \".jpg\"\n",
        "        img = requests.get(prof_img, stream = True, verify = False)\n",
        "        with open(fn, \"wb\") as f:\n",
        "            shutil.copyfileobj(img.raw, f)\n",
        "\n"
      ],
      "execution_count": null,
      "outputs": []
    }
  ]
}