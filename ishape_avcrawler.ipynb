{
  "nbformat": 4,
  "nbformat_minor": 0,
  "metadata": {
    "kernelspec": {
      "display_name": "Python 3",
      "language": "python",
      "name": "python3"
    },
    "language_info": {
      "codemirror_mode": {
        "name": "ipython",
        "version": 3
      },
      "file_extension": ".py",
      "mimetype": "text/x-python",
      "name": "python",
      "nbconvert_exporter": "python",
      "pygments_lexer": "ipython3",
      "version": "3.7.6"
    },
    "colab": {
      "name": "ishape_avcrawler.ipynb",
      "provenance": [],
      "collapsed_sections": [],
      "include_colab_link": true
    }
  },
  "cells": [
    {
      "cell_type": "markdown",
      "metadata": {
        "id": "view-in-github",
        "colab_type": "text"
      },
      "source": [
        "<a href=\"https://colab.research.google.com/github/kingsgameBen/iShape_tools/blob/main/ishape_avcrawler.ipynb\" target=\"_parent\"><img src=\"https://colab.research.google.com/assets/colab-badge.svg\" alt=\"Open In Colab\"/></a>"
      ]
    },
    {
      "cell_type": "markdown",
      "metadata": {
        "id": "u9dNPv4yCyfu"
      },
      "source": [
        "##### 從篩選出有身高體重三圍資料的女優\n",
        "再透過google圖片搜尋抓取圖片，找到合格的正面全身照"
      ]
    },
    {
      "cell_type": "markdown",
      "metadata": {
        "id": "pdhByeVZp3zb"
      },
      "source": [
        "從老師的GitHub檔案,點進\n",
        "[ https://github.com/Elwing-Chou/ml0223/blob/main/google_crawler_final.ipynb ]\n"
      ]
    },
    {
      "cell_type": "code",
      "metadata": {
        "colab": {
          "base_uri": "https://localhost:8080/"
        },
        "id": "paqQTzy05aUk",
        "outputId": "fc540326-7dda-4885-c549-f5251f1e400c"
      },
      "source": [
        "from google.colab import drive\n",
        "drive.mount('/content/drive')"
      ],
      "execution_count": null,
      "outputs": [
        {
          "output_type": "stream",
          "text": [
            "Mounted at /content/drive\n"
          ],
          "name": "stdout"
        }
      ]
    },
    {
      "cell_type": "code",
      "metadata": {
        "colab": {
          "base_uri": "https://localhost:8080/"
        },
        "id": "K4-885yBx-Kg",
        "outputId": "f6cc1c4f-9065-4b5e-bcba-76bdb1393385"
      },
      "source": [
        "import numpy as np\n",
        "import requests\n",
        "import json\n",
        "from bs4 import BeautifulSoup\n",
        "import json\n",
        "import pandas as pd\n",
        "import os\n",
        "from urllib.request import urlopen, Request, HTTPError\n",
        "from random import choice\n",
        "import shutil\n",
        "\n",
        "av_dn = \"drive/MyDrive/body_shape/\"\n",
        "av_csv_fn = av_dn + \"avinfo_refined.csv\"\n",
        "# print(av_csv_fn)\n",
        "av_csv = pd.read_csv(av_csv_fn, encoding=\"utf-8\", usecols=[1,2,3,4,5,6,7,8,9])\n",
        "# pd.set_option('display.max_rows', None)\n",
        "pd.set_option('display.max_columns', None)\n",
        "pd.set_option('display.width',100)\n",
        "av_df = pd.DataFrame(av_csv)\n",
        "# print(av_df.dropna(axis=0, thresh=7))\n",
        "print(len(av_df))\n",
        "\n",
        "# print(av_df[\"name\"])\n",
        "name_list = av_df[\"name\"]\n"
      ],
      "execution_count": null,
      "outputs": [
        {
          "output_type": "stream",
          "text": [
            "57\n"
          ],
          "name": "stdout"
        }
      ]
    },
    {
      "cell_type": "markdown",
      "metadata": {
        "id": "hjptACkQFCoW"
      },
      "source": [
        "之前的code已遺失，下方區塊待有時間再修改成爬取女優圖片\n"
      ]
    },
    {
      "cell_type": "code",
      "metadata": {
        "id": "0E8MIt2gE_rf"
      },
      "source": [
        "import requests\n",
        "from bs4 import BeautifulSoup\n",
        "import json\n",
        "\n",
        "# df =  pd.read_csv(\"XXXXX.csv\", encoding=\"utf-8\")\n",
        "\n",
        "# s = ['蔡英文', '馬英九']\n",
        "\n",
        "# for name in df['name]:\n",
        "for name in s:\n",
        "  imgs_url = []\n",
        "  # page 1-3\n",
        "  for page in range(0, 4) :  \n",
        "      url = (\"https://www.google.com/search?ei=Z3KJXYefGIK0mAX-vp64CQ&yv=3&q=\" + name + \"&tbm=isch&vet=10ahUKEwjH7qivqOjkAhUCGqYKHX6fB5cQuT0ISigB.Z3KJXYefGIK0mAX-vp64CQ.i&ved=0ahUKEwjH7qivqOjkAhUCGqYKHX6fB5cQuT0ISigB&ijn=\"\n",
        "              + str(page) + \"&start=\"\n",
        "              + str(page * 100) +\"&asearch=ichunk&async=_id:rg_s,_pms:s,_jsfs:Ffpdje,_fmt:pc\")\n",
        "      print(\"第幾頁:\", page + 1)\n",
        "      print(\"網址:\", url)\n",
        "      h = {\n",
        "          \"accept-language\":\"zh-TW,zh;q=0.9,en-US;q=0.8,en;q=0.7\",\n",
        "          \"user-agent\":\"Mozilla/5.0 (Windows NT 10.0; Win64; x64) AppleWebKit/537.36 (KHTML, like Gecko) Chrome/76.0.3809.132 Safari/537.36\"\n",
        "      }\n",
        "      response = requests.get(url, headers=h)\n",
        "      \n",
        "      html = BeautifulSoup(response.text)\n",
        "      divs = html.find_all(\"div\", class_=\"rg_meta\")    \n",
        "      \n",
        "      print(\"這頁有幾張?\", len(divs))\n",
        "      for d in divs:\n",
        "          img = json.loads(d.text)[\"ou\"]\n",
        "          imgs_url.append(img)\n",
        "\n",
        "  import os\n",
        "  import shutil\n",
        "  import ssl\n",
        "  ssl._create_default_https_context = ssl._create_unverified_context\n",
        "\n",
        "  base = os.path.join(\"/content/drive/MyDrive/google_crawler/\", name)\n",
        "  if not os.path.exists(base):\n",
        "      os.makedirs(base)\n",
        "  saved = [\"jpg\", \"jpeg\", \"png\"]\n",
        "  for i, iurl in enumerate(imgs_url):\n",
        "      for f in saved:\n",
        "          if f.upper() in iurl or f in iurl:\n",
        "              try:\n",
        "                  iresponse = requests.get(iurl, stream=True, verify=False)\n",
        "                  fn = os.path.join(base, str(i) + \".\" + f)\n",
        "                  with open(fn, \"wb\") as f:\n",
        "                      # .read: .raw是一個檔案, 使用read去讀取\n",
        "                      # f.write(iresponse.raw.read())\n",
        "                      shutil.copyfileobj(iresponse.raw, f)\n",
        "              except:\n",
        "                  print(\"放棄:\", iurl)"
      ],
      "execution_count": null,
      "outputs": []
    }
  ]
}