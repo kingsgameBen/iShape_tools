{
  "nbformat": 4,
  "nbformat_minor": 0,
  "metadata": {
    "colab": {
      "name": "ishape_styleco_models.ipynb",
      "private_outputs": true,
      "provenance": [],
      "collapsed_sections": [],
      "mount_file_id": "1PLnkaR9o4MCAHav6n-KGmmVKWsGe5tFD",
      "authorship_tag": "ABX9TyOZhawM33qLJw51GtXVR+6f",
      "include_colab_link": true
    },
    "kernelspec": {
      "name": "python3",
      "display_name": "Python 3"
    },
    "language_info": {
      "name": "python"
    }
  },
  "cells": [
    {
      "cell_type": "markdown",
      "metadata": {
        "id": "view-in-github",
        "colab_type": "text"
      },
      "source": [
        "<a href=\"https://colab.research.google.com/github/kingsgameBen/iShape_tools/blob/main/ishape_styleco_models.ipynb\" target=\"_parent\"><img src=\"https://colab.research.google.com/assets/colab-badge.svg\" alt=\"Open In Colab\"/></a>"
      ]
    },
    {
      "cell_type": "markdown",
      "metadata": {
        "id": "2FGpAkxnB5F7"
      },
      "source": [
        "### 爬取日本模特兒網站 stylecorporation\n",
        "抓取身體資料及所有照片，並從中篩選合格的照片資料\n"
      ]
    },
    {
      "cell_type": "code",
      "metadata": {
        "id": "0i87cKsNCMIH"
      },
      "source": [
        "from datetime import datetime\n",
        "# 計算年齡\n",
        "def calculate_age(birth):\n",
        "    birth_d = datetime.strptime(birth, \"%Y-%m\")\n",
        "    today_d = datetime.now()\n",
        "    if today_d.month> birth_d.month:\n",
        "        age = today_d.year - birth_d.year\n",
        "    else:\n",
        "        age = today_d.year - birth_d.year - 1\n",
        "    return age"
      ],
      "execution_count": null,
      "outputs": []
    },
    {
      "cell_type": "code",
      "metadata": {
        "id": "pZCk5d-s2zQ7"
      },
      "source": [
        "import requests\n",
        "import json\n",
        "from bs4 import BeautifulSoup\n",
        "import json\n",
        "import pandas as pd\n",
        "import os\n",
        "from urllib.request import urlopen, Request\n",
        "import shutil\n",
        "import requests.packages.urllib3\n",
        "requests.packages.urllib3.disable_warnings()\n",
        "\n",
        "url = \"https://stylecorporation.com/profile/\"\n",
        "response = requests.get(url)\n",
        "response.encoding='utf-8'\n",
        "# print(response.status_code)\n",
        "# req = Request(url)\n",
        "# req.add_header(\"user-agent\",\"Mozilla/5.0 (Macintosh; Intel Mac OS X 11_2_0) AppleWebKit/537.36 (KHTML, like Gecko) Chrome/88.0.4324.150 Safari/537.36\")\n",
        "# response = urlopen(req)\n",
        "html = BeautifulSoup(response.text,features=\"html.parser\")\n",
        "# print(html)\n",
        "\n",
        "profBox = html.find(\"div\", id=\"wrapper\").find_all(\"div\", class_=\"profBox\")\n",
        "prof_url_ls = [ url + prof.find(\"a\")[\"href\"] for prof in profBox]\n",
        "# print(len(prof_url_ls))\n",
        "dn = \"drive/MyDrive/body_shape/styleco/\"\n",
        "if not os.path.exists(dn):\n",
        "    os.makedirs(dn)\n",
        "count = 0\n",
        "for prof_url in prof_url_ls:\n",
        "    response = requests.get(prof_url)\n",
        "    response.encoding = 'utf-8'\n",
        "    html = BeautifulSoup(response.text)\n",
        "    profThumb_Box = html.find_all(\"div\", class_=\"profThumb_Box\")\n",
        "    profThumb_ls = [ prof_url[:-10] + thumb.find(\"a\")[\"href\"] for thumb in profThumb_Box]\n",
        "    detail = html.find(\"div\", class_=\"satsueikai_RightBox\").select(\"p:nth-of-type(3)\")[0].text\n",
        "    detail_list = detail.split(\"\\r\\n\")\n",
        "    brith = \"-\".join(detail_list[0].split(\"：\")[-1].split(\".\")[:-1])\n",
        "    age = calculate_age(brith)\n",
        "    age = \"age：\" + str(age)\n",
        "    details = age + html.find(\"div\", class_=\"satsueikai_RightBox\").text\n",
        "    # print(detail_list)\n",
        "    # print(detail)\n",
        "    print(profThumb_ls)\n",
        "    print(details)\n",
        "\n",
        "    count += 1\n",
        "    prof_dn = dn + str(count) + \"/\"\n",
        "    if not os.path.exists(prof_dn):\n",
        "        os.makedirs(prof_dn)\n",
        "    for thumb in profThumb_ls:\n",
        "        fn = prof_dn + thumb.split(\"/\")[-1]\n",
        "        img = requests.get(thumb, stream = True, verify = False)\n",
        "        with open(fn, \"wb\") as f:\n",
        "            shutil.copyfileobj(img.raw, f)\n",
        "    prof_dt = prof_dn + \"info.txt\"\n",
        "    with open(prof_dt, \"w\") as txtf:\n",
        "        txtf.write(details)\n",
        "\n"
      ],
      "execution_count": null,
      "outputs": []
    }
  ]
}