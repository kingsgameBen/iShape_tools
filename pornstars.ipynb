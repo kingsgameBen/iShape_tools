{
  "nbformat": 4,
  "nbformat_minor": 0,
  "metadata": {
    "colab": {
      "name": "pornstars.ipynb",
      "private_outputs": true,
      "provenance": [],
      "collapsed_sections": [],
      "mount_file_id": "1umFGTU8waEDOvYeFjxOMHGyxYILduCR9",
      "authorship_tag": "ABX9TyODTdWkM2VkJS2ad5PMihYh",
      "include_colab_link": true
    },
    "kernelspec": {
      "name": "python3",
      "display_name": "Python 3"
    },
    "language_info": {
      "name": "python"
    }
  },
  "cells": [
    {
      "cell_type": "markdown",
      "metadata": {
        "id": "view-in-github",
        "colab_type": "text"
      },
      "source": [
        "<a href=\"https://colab.research.google.com/github/kingsgameBen/iShape_tools/blob/main/pornstars.ipynb\" target=\"_parent\"><img src=\"https://colab.research.google.com/assets/colab-badge.svg\" alt=\"Open In Colab\"/></a>"
      ]
    },
    {
      "cell_type": "code",
      "metadata": {
        "id": "LFsKwbpPrrPs"
      },
      "source": [
        "import unicodedata\n",
        "from datetime import datetime\n",
        "# 判斷是否可以轉換成數字(若字串為'-'，則回傳False)\n",
        "def is_number(s):\n",
        "    try:\n",
        "        float(s)\n",
        "        return True\n",
        "    except ValueError:\n",
        "        pass\n",
        "    try:\n",
        "        unicodedata.numeric(s)\n",
        "        return True\n",
        "    except (TypeError, ValueError):\n",
        "        pass\n",
        " \n",
        "    return False\n",
        "\n",
        "# 計算年齡(只用年月計算，不考慮日期)\n",
        "def calculate_age(birth):\n",
        "    birth_d = datetime.strptime(birth, \"%Y-%m\")\n",
        "    today_d = datetime.now()\n",
        "    if today_d.month> birth_d.month:\n",
        "        age = today_d.year - birth_d.year\n",
        "    else:\n",
        "        age = today_d.year - birth_d.year - 1\n",
        "    return age"
      ],
      "execution_count": null,
      "outputs": []
    },
    {
      "cell_type": "markdown",
      "metadata": {
        "id": "x5ukJOeoy5P-"
      },
      "source": [
        "### 從Kaggle上找到的日本女優資料集，\n",
        "因為缺少體重資訊，故從網上尋找有體重資料的女優，並篩選出來，\n",
        "再尋找是否有正面全身照"
      ]
    },
    {
      "cell_type": "code",
      "metadata": {
        "id": "bG33RUPpOkQ4"
      },
      "source": [
        "import numpy as np\n",
        "import requests\n",
        "import json\n",
        "from bs4 import BeautifulSoup\n",
        "import json\n",
        "import pandas as pd\n",
        "import os\n",
        "from urllib.request import urlopen, Request, HTTPError\n",
        "from random import choice\n",
        "import shutil\n",
        "# from selenium.webdriver import Chrome\n",
        "# from selenium.webdriver.common.keys import Keys\n",
        "# from selenium.common.exceptions import NoSuchElementException\n",
        "import time\n",
        "import ssl\n",
        "import requests.packages.urllib3\n",
        "requests.packages.urllib3.disable_warnings()\n",
        "ssl._create_default_https_context = ssl._create_unverified_context\n",
        "\n",
        "av_dn = \"drive/MyDrive/body_shape/\"\n",
        "av_csv_fn = av_dn + \"actress.csv\"\n",
        "# print(av_csv_fn)\n",
        "av_csv = pd.read_csv(av_csv_fn, encoding=\"utf-8\", usecols=[0,1,3,4,6,7,8])\n",
        "print(len(av_csv))\n",
        "# pd.set_option('display.max_rows', None)\n",
        "pd.set_option('display.max_columns', None)\n",
        "pd.set_option('display.width',100)\n",
        "av_df = pd.DataFrame(av_csv)\n",
        "# print(av_df.dropna(axis=0, thresh=7))\n",
        "filter_1 = av_df.dropna(axis=0,how=\"any\", subset=[\"waist\",\"hips\"])\n",
        "print(len(av_df.dropna(axis=0, subset=[\"height\"])))\n",
        "print(len(filter_1))\n",
        "\n",
        "# print(filter_1[\"height\"])\n",
        "# print(len(av_df[\"bust\"].dropna()))\n",
        "# print(len(av_df.dropna(axis=0, subset=[\"bust\",\"waist\",\"hips\"])))\n",
        "# filter_1 = filter_1.dropna(axis=0, subset=[\"height\"]) # 過濾沒身高的資料\n",
        "\n",
        "name_list = filter_1[\"name\"]\n",
        "for na in name_list:\n",
        "    na = na.strip()\n",
        "\n",
        "av_df[\"weight\"] = np.nan\n",
        "for idx, row in av_df.iterrows():\n",
        "    if not pd.isnull(row[\"birthday\"]):\n",
        "        av_df.loc[idx, \"age\"] = round(calculate_age(row[\"birthday\"][:-3]))\n",
        "\n",
        "# print(type(av_df.loc[0][\"age\"]))\n",
        "print(\"從當前女優名 拿到 id 的值\", av_df[av_df.name==\"JULIA\"].id.values[0])\n",
        "# print(\"從當前女優名 拿到 weight 的值\\n\", av_df[av_df.index == av_df[av_df.name==\"JULIA\"].index[0]])\n",
        "# av_df.loc[av_df[av_df.name==\"JULIA\"].index[0], \"weight\"]=0\n",
        "print(av_df[av_df.name==\"JULIA\"])\n",
        "print(name_list[:50])"
      ],
      "execution_count": null,
      "outputs": []
    },
    {
      "cell_type": "markdown",
      "metadata": {
        "id": "VKJJMxGSx5zB"
      },
      "source": [
        "### 從維基百科爬取有體重資料的女優"
      ]
    },
    {
      "cell_type": "code",
      "metadata": {
        "id": "n3svIcrZcFS9"
      },
      "source": [
        "import random\n",
        "base_url = \"https://zh.wikipedia.org/wiki/\"\n",
        "count = 0\n",
        "filtered_count = 0\n",
        "agents = [\n",
        "\"Mozilla/5.0 (Windows NT 6.2; WOW64) AppleWebKit/537.15 (KHTML, like Gecko) Chrome/24.0.1295.0 Safari/537.15\",\n",
        "\"Mozilla/5.0 (Windows NT 6.2; WOW64) AppleWebKit/537.14 (KHTML, like Gecko) Chrome/24.0.1292.0 Safari/537.14\",\n",
        "\"Mozilla/5.0 (Windows NT 6.2; WOW64) AppleWebKit/537.13 (KHTML, like Gecko) Chrome/24.0.1290.1 Safari/537.13\",\n",
        "\"Mozilla/5.0 (Windows NT 6.2) AppleWebKit/537.13 (KHTML, like Gecko) Chrome/24.0.1290.1 Safari/537.13\",\n",
        "\"Mozilla/5.0 (Macintosh; Intel Mac OS X 10_8_2) AppleWebKit/537.13 (KHTML, like Gecko) Chrome/24.0.1290.1 Safari/537.13\",\n",
        "\"Mozilla/5.0 (Macintosh; Intel Mac OS X 10_7_4) AppleWebKit/537.13 (KHTML, like Gecko) Chrome/24.0.1290.1 Safari/537.13\",\n",
        "\"Mozilla/5.0 (Windows NT 6.1) AppleWebKit/537.13 (KHTML, like Gecko) Chrome/24.0.1284.0 Safari/537.13\",\n",
        "\"Mozilla/5.0 (Windows NT 5.1) AppleWebKit/537.11 (KHTML, like Gecko) Chrome/23.0.1271.6 Safari/537.11\",\n",
        "\"Mozilla/5.0 (Macintosh; Intel Mac OS X 10_8_2) AppleWebKit/537.11 (KHTML, like Gecko) Chrome/23.0.1271.6 Safari/537.11\",\n",
        "\"Mozilla/5.0 (Windows NT 6.2) AppleWebKit/537.11 (KHTML, like Gecko) Chrome/23.0.1271.26 Safari/537.11\",\n",
        "\"Mozilla/5.0 (Windows NT 6.0) yi; AppleWebKit/345667.12221 (KHTML, like Gecko) Chrome/23.0.1271.26 Safari/453667.1221\",\n",
        "\"Mozilla/5.0 (Windows NT 6.2; WOW64) AppleWebKit/537.11 (KHTML, like Gecko) Chrome/23.0.1271.17 Safari/537.11\",\n",
        "\"Mozilla/5.0 (Windows NT 6.2) AppleWebKit/537.4 (KHTML, like Gecko) Chrome/22.0.1229.94 Safari/537.4\",\n",
        "\"Mozilla/5.0 (Macintosh; Intel Mac OS X 10_6_0) AppleWebKit/537.4 (KHTML, like Gecko) Chrome/22.0.1229.79 Safari/537.4\",\n",
        "\"Mozilla/5.0 (Windows NT 6.1) AppleWebKit/537.2 (KHTML, like Gecko) Chrome/22.0.1216.0 Safari/537.2\",\n",
        "\"Mozilla/5.0 (Windows NT 6.1; WOW64) AppleWebKit/537.1 (KHTML, like Gecko) Chrome/22.0.1207.1 Safari/537.1\",\n",
        "\"Mozilla/5.0 (Macintosh; Intel Mac OS X 10_15_7) AppleWebKit/537.36 (KHTML, like Gecko) Chrome/90.0.4430.85 Safari/537.36\"\n",
        "]\n",
        "for name in name_list:\n",
        "    if len(name.split(\"（\")) > 1:\n",
        "        other_names = name.split(\"（\")\n",
        "        other_names[-1] = other_names[-1][:-1]\n",
        "        if \"，\" in other_names[-1]:\n",
        "            aliases = name.split(\"（\")[-1].split(\"，\")\n",
        "            other_names = [name.split(\"（\")[0], aliases[0], aliases[-1][:-1]]\n",
        "    else:\n",
        "        other_names = [name]\n",
        "    for i_name in other_names:\n",
        "        url = base_url + i_name\n",
        "        h ={\n",
        "            \"user-agent\": random.choice(agents)\n",
        "        } \n",
        "        response = requests.get(url, headers=h).text\n",
        "        html = BeautifulSoup(response, features=\"html.parser\")\n",
        "        main_wrapper = html.find(\"div\", id=\"mw-content-text\")\n",
        "        infobox = main_wrapper.find(\"table\", class_=\"infobox\")\n",
        "        if infobox:\n",
        "            infos = infobox.find(\"tbody\").select(\"tr\")\n",
        "            if \"體重\" in infobox.find(\"tbody\").text or \"体重\" in infobox.find(\"tbody\").text:\n",
        "                count += 1\n",
        "                # print(\"第\", count, \"筆：\", name)\n",
        "                for info in infos:\n",
        "                    if \"公斤\" in info.text:\n",
        "                        wei_info = info.text.split(\"/\")[-1].strip()[:-2]\n",
        "                        # print(\"第\", count, \"筆：\", info.text)\n",
        "                        if is_number(wei_info):\n",
        "                            filtered_count += 1\n",
        "                            av_df.loc[av_df[av_df.name == name].index[0], \"weight\"] = wei_info\n",
        "                            # print(\"有體重的第\", filtered_count, \"筆：\", \"weight:\", wei_info)\n",
        "                            print(\"recheck:\", av_df[av_df.name == name][\"weight\"])\n",
        "    # print(\"=\"*100, \"\\n\")\n",
        "print(filtered_count)"
      ],
      "execution_count": null,
      "outputs": []
    },
    {
      "cell_type": "markdown",
      "metadata": {
        "id": "dfKuAAqCxhNs"
      },
      "source": [
        "### 輸出女優體重、腰圍、臀圍資料 -> .csv"
      ]
    },
    {
      "cell_type": "code",
      "metadata": {
        "id": "Dr-IoNfXoVWK"
      },
      "source": [
        "import numpy as np\n",
        "# hei = info.text.split(\"/\")[1].split(\" \")[0]\n",
        "                    # print(\"身高：\", hei)\n",
        "\n",
        "# av_df = av_df[\"weight\"].replace(\"\", np.NaN)\n",
        "# print(av_df.dropna(axis=0, subset=[\"weight\"]))\n",
        "av_df.dropna(axis=0, how='any', subset=[\"waist\",\"hips\",\"weight\"], inplace=True)\n",
        "# print(np.any(av_df.isnull())==True)\n",
        "print(av_df[~av_df.isna()])\n",
        "print(len(av_df[~av_df.isna()]))\n",
        "# print(av_df.dropna(axis=0, subset=[\"bust\",\"waist\",\"hips\",\"weight\"]))\n",
        "# print(len(av_df.dropna(axis=0, subset=[\"bust\",\"waist\",\"hips\",\"weight\"])))\n",
        "# av_df.dropna(axis=0, subset=[\"weight\"])\n",
        "# av_df.to_csv(av_dn + \"avinfo.csv\")\n",
        "av_df.to_csv(av_dn + \"avinfo3.csv\")\n",
        "    # with open(av_csv, \"w\") as txtf:\n",
        "    #     txtf.write(details)"
      ],
      "execution_count": null,
      "outputs": []
    }
  ]
}