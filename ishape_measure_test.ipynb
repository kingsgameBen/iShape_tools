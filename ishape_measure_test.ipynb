{
  "nbformat": 4,
  "nbformat_minor": 0,
  "metadata": {
    "colab": {
      "name": "ishape_measure_test.ipynb",
      "private_outputs": true,
      "provenance": [],
      "collapsed_sections": [],
      "toc_visible": true,
      "mount_file_id": "1_k9OR-1AHSzJoRYNbk1ypPVyIcrwGeta",
      "authorship_tag": "ABX9TyMc0R05L0dP0z26adD4lfup",
      "include_colab_link": true
    },
    "kernelspec": {
      "name": "python3",
      "display_name": "Python 3"
    },
    "language_info": {
      "name": "python"
    }
  },
  "cells": [
    {
      "cell_type": "markdown",
      "metadata": {
        "id": "view-in-github",
        "colab_type": "text"
      },
      "source": [
        "<a href=\"https://colab.research.google.com/github/kingsgameBen/iShape_tools/blob/main/ishape_measure_test.ipynb\" target=\"_parent\"><img src=\"https://colab.research.google.com/assets/colab-badge.svg\" alt=\"Open In Colab\"/></a>"
      ]
    },
    {
      "cell_type": "markdown",
      "metadata": {
        "id": "WCDJzZKFasUM"
      },
      "source": [
        "### BodyFat-Analysis 以3種公式，驗算體脂率結果與資料集差異\n",
        "1. \\\n",
        "女孩體脂率(15歲以下)：(1.51 x BMI) + (0.7 x age) + 1.4 \\\n",
        "男孩體脂率(15歲以下)：(1.51 x BMI) + (0.7 x age) - 2.2 \\\n",
        "女性體脂率：(1.2 x BMI) + (0.23 x age) – 5.4. \\\n",
        "男性體脂率：(1.2 x BMI) + (0.23 x age) – 16.2\n",
        "\n",
        "2. \\\n",
        "女性體脂率：(1.39 x BMI) + (0.16 x age) – 9 \\\n",
        "男性體脂率：(1.39 x BMI) + (0.16 x age) – 19.34\n",
        "\n",
        "3. \\\n",
        "女性體脂率：\\\n",
        "495 / (1.29579 - .35004 * log10(Waist + Hip - Neck) + 0.22100 * log10(Height)) - 450 \\\n",
        "男性體脂率：\\\n",
        "495 / (1.0324 - .19077 * log10(Waist - Neck) + 0.15456 * log10(Height)) - 450\n"
      ]
    },
    {
      "cell_type": "markdown",
      "metadata": {
        "id": "ox56GeclbbC0"
      },
      "source": [
        "# 公式一"
      ]
    },
    {
      "cell_type": "code",
      "metadata": {
        "id": "L4vGsyQXaexZ"
      },
      "source": [
        "def bmi_formula_a(gender, age, height, weight):\n",
        "    kg = round(float(weight)*0.45359237, 3)\n",
        "    meters = round((float(height)*2.54) / 100, 3)\n",
        "    bmi = round(kg / pow(meters, 2), 1)\n",
        "    # print(\"公式一\\nage:\", age, \"weights:\", kg, \"height:\", meters, \"m\\nbmi:\", bmi)\n",
        "    print(\"公式 bmi:\", bmi)\n",
        "    if gender == \"m\":\n",
        "        if age < 15:\n",
        "            bfp_men = round((1.51*bmi)+(0.7*int(age))-2.2, 2)\n",
        "        elif age >= 15:\n",
        "            bfp_men = round((1.2*bmi)+(0.23*int(age))-16.2, 2)\n",
        "        return bfp_men\n",
        "    else:\n",
        "        if age < 15:\n",
        "            bfp_women = round((1.51*bmi)+(0.7*int(age))+1.4, 2)\n",
        "        elif age >= 15:\n",
        "            bfp_women = round((1.2*bmi)+(0.23*int(age))-5.4, 2)\n",
        "        return bfp_women\n"
      ],
      "execution_count": null,
      "outputs": []
    },
    {
      "cell_type": "markdown",
      "metadata": {
        "id": "0e7t0UYEbfpy"
      },
      "source": [
        "# 公式二"
      ]
    },
    {
      "cell_type": "code",
      "metadata": {
        "id": "pJBwTIUGkqJl"
      },
      "source": [
        "def bmi_formula_b(gender, age, height, weight):\n",
        "    kg = round(float(weight)*0.45359237, 3)\n",
        "    meters = round((float(height)*2.54) / 100, 3)\n",
        "    bmi = round(kg / pow(meters, 2), 1)\n",
        "    # print(\"公式二\\nage:\", age, \"weights:\", kg, \"height:\", meters, \"m\\nbmi:\", bmi)\n",
        "    if gender == \"m\":\n",
        "        bfp_men = round((1.39*bmi)+(0.16*int(age))-19.34, 2)\n",
        "        return bfp_men\n",
        "    else:\n",
        "        bfp_women = round((1.39*bmi)+(0.16*int(age))-9, 2)\n",
        "    # elif gender == f:\n",
        "        return bfp_women\n"
      ],
      "execution_count": null,
      "outputs": []
    },
    {
      "cell_type": "markdown",
      "metadata": {
        "id": "PiPZzFOCbgDZ"
      },
      "source": [
        "# 公式三\n",
        "\n",
        "原本海軍公式有錯，故改參考其他網站的正確換算公式\n",
        "\n",
        "http://hugolohas.blogspot.com/2012/09/blog-post_5899.html"
      ]
    },
    {
      "cell_type": "code",
      "metadata": {
        "id": "OKLZRP7ikpIJ"
      },
      "source": [
        "import math\n",
        "def bmi_formula_c(gender, height, weight, waist, neck, hip):\n",
        "    # kg = round(float(weight)*0.45359237, 3)\n",
        "    # height_m = round((float(height)*2.54) / 100, 3)\n",
        "    height_cm = float(height)*2.54\n",
        "    waist = float(waist)\n",
        "    hip = float(hip)\n",
        "    neck = float(neck)\n",
        "    total_weight = float(weight)*1.082 + 94.42\n",
        "    # print(\"height:\", meters, \"m\\nwaist:\", waist, \" hip:\", hip, \" neck:\", neck)\n",
        "    # print(waist, waist/2.54*4.15)\n",
        "    if gender == \"m\":\n",
        "        # 以英吋測量：體脂肪％＝[86.01 x LOG10( 腰圍- 頸圍)] - [70.041 x LOG10(身高)] + 36.76\n",
        "        # 以公分測量：體脂肪％＝495 / {1.0324 - 0.19077 x [LOG10(腰圍- 頸圍)] + 0.15456 x [LOG10(身高)]} - 450\n",
        "        bfp_men = 495 / (1.0324 - (0.19077 * math.log10(waist - neck)) + (0.15456 * math.log10(height_cm))) - 450\n",
        "        # bfp_men = ((total_weight - (total_weight - (waist*0.393700787*4.15)))/total_weight)*100\n",
        "        return bfp_men\n",
        "    else:\n",
        "        # 以英吋測量：體脂肪％＝[163.205 x LOG10(腰圍 + 臀圍 - 頸圍)] - [97.684 x LOG10(身高)] - 78.387\n",
        "        # 以公分測量：體脂肪％＝495 / {1.29579 - 0.35004 x [LOG10(腰圍 + 臀圍 - 頸圍)] + 0.22100 x [LOG10(身高)]} - 450\n",
        "        bfp_women = 495 / (1.29579 - (0.35004 * math.log10(waist + hip - neck)) + (0.22100 * math.log10(height_cm))) - 450\n",
        "        return bfp_women"
      ],
      "execution_count": null,
      "outputs": []
    },
    {
      "cell_type": "markdown",
      "metadata": {
        "id": "2KzTentVkrXV"
      },
      "source": [
        "# 從github找到的水下秤重資料集 bodyfat.csv\n",
        "計算此252筆水下秤重量測的體脂率與上面3種公式計算出的體脂率 差異有多少\n",
        "\n",
        "公式 1: 1776  平均誤差: 7.05  \\\n",
        "公式 2: 1543  平均誤差: 6.12  \\\n",
        "公式 3: 1003  平均誤差: 3.98 \n",
        "\n",
        "比較平均誤差，第3個U.S. Navy方法，平均誤差3.98 \\\n",
        "為三種體脂率公式中，與水下秤重體脂率誤差最小的公式\n"
      ]
    },
    {
      "cell_type": "code",
      "metadata": {
        "id": "TSEG2UJnkqrT"
      },
      "source": [
        "import pandas as pd\n",
        "fn = \"drive/MyDrive/body_shape/BodyFat.csv\"\n",
        "bodyfat = pd.read_csv(fn, encoding=\"utf-8\", usecols=[1,3,4,5,6,7,8,9,10])\n",
        "df = pd.DataFrame(bodyfat)\n",
        "print(len(bodyfat))\n",
        "print(bodyfat)\n",
        "sum_fn1, sum_fn2, sum_fn3 = 0, 0, 0\n",
        "for row_index, row in df.iterrows():\n",
        "    bfp1 = bmi_formula_a(\"m\", row.AGE, row.HEIGHT, row.WEIGHT)\n",
        "    fn1_err = round(abs(bfp1 - row.BODYFAT), 3)\n",
        "    sum_fn1 += fn1_err\n",
        "\n",
        "    bfp2 = bmi_formula_b(\"m\", row.AGE, row.HEIGHT, row.WEIGHT)\n",
        "    fn2_err = round(abs(bfp2 - row.BODYFAT), 3)\n",
        "    sum_fn2 += fn2_err\n",
        "\n",
        "    bfp3 = bmi_formula_c(\"m\", row.HEIGHT, row.WEIGHT, row.ABDOMEN, row.NECK, row.HIP)\n",
        "    fn3_err = round(abs(bfp3 - row.BODYFAT), 3)\n",
        "    sum_fn3 += fn3_err\n",
        "\n",
        "    print(\"第\", row_index+1, \"筆\")\n",
        "    # print(\"女：\", bfp_women)\n",
        "    print(\"公式Ａ\")\n",
        "    print(\"男：\", bfp1, \"誤差：\", fn1_err)\n",
        "    print(\"公式Ｂ\")\n",
        "    print(\"男：\", bfp2, \"誤差：\", fn2_err)\n",
        "    print(\"US Navy - 公式C\")\n",
        "    print(\"男：\", bfp3, \"誤差：\", fn3_err)\n",
        "    # Adioposity (bmi) 肥胖指數\n",
        "    print(\"公式1 誤差：\", fn1_err, \"公式2 誤差：\", fn2_err, \"公式3 誤差：\", fn3_err)\n",
        "    print(\"true bfp:\", row.BODYFAT, \" true BMI:\", row.ADIPOSITY, \"\\n\",\"_\"*50)\n",
        "\n",
        "# min_err_fn = min({\"公式 1\":sum_fn1, \"公式 2\":sum_fn2, \"公式 3\":sum_fn3})\n",
        "min_err_fn = min(sum_fn1, sum_fn2, sum_fn3)\n",
        "# {sum_fn1:\"公式 1\", sum_fn2:\"公式 2\", sum_fn3:\"公式 3\"}\n",
        "# \"總誤差最小的公式：\", ,\n",
        "print(\"=\"*100)\n",
        "print(\"總誤差值：\", min_err_fn)\n",
        "print(\"公式 1:\", round(sum_fn1), \"公式 2:\", round(sum_fn2), \"公式 3:\", round(sum_fn3))\n",
        "print(\"公式 1平均誤差:\", round( sum_fn1 / len(bodyfat), 2), \"公式 2平均誤差:\", round( sum_fn2 / len(bodyfat), 2), \"公式 3平均誤差:\", round( sum_fn3 / len(bodyfat), 2) )\n"
      ],
      "execution_count": null,
      "outputs": []
    },
    {
      "cell_type": "markdown",
      "metadata": {
        "id": "tAmIIuMd-UuS"
      },
      "source": [
        "### 用美國海軍公式，計算特定個人體脂率\n",
        "用於和體脂計測量結果對照"
      ]
    },
    {
      "cell_type": "code",
      "metadata": {
        "id": "AaXPNkAH93SG"
      },
      "source": [
        "import math\n",
        "#m\tw\t35\t65.5\t166.4\t125.75\t57.0\t\t35.75\t90.8\t29.5\t75\t35.1\t89.2\t\t\t\t\t\t\t1.9\n",
        "gender = \"m\"\n",
        "height_cm = 166.4\n",
        "weight = 57\n",
        "waist = 75\n",
        "hip = 89.2\n",
        "neck = 34\n",
        "\n",
        "if gender == \"m\":\n",
        "    bfp_men = 495 / (1.0324 - (0.19077 * math.log10(waist - neck)) + (0.15456 * math.log10(height_cm))) - 450\n",
        "    print(bfp_men)\n",
        "else:\n",
        "    bfp_women = 495 / (1.29579 - (0.35004 * math.log10(waist + hip - neck)) + (0.22100 * math.log10(height_cm))) - 450\n",
        "    print(bfp_women)"
      ],
      "execution_count": null,
      "outputs": []
    }
  ]
}